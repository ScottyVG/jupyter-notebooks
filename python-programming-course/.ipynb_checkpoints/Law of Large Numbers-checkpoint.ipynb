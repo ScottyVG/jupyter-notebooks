{
 "cells": [
  {
   "cell_type": "code",
   "execution_count": 1,
   "metadata": {
    "collapsed": true
   },
   "outputs": [],
   "source": [
    "#10: 7/3 70%/30%\n",
    "#100: 52/48 52%/48%\n",
    "#1000: 5002/498 50.2%/49.8%"
   ]
  },
  {
   "cell_type": "code",
   "execution_count": 3,
   "metadata": {
    "collapsed": false
   },
   "outputs": [
    {
     "name": "stdout",
     "output_type": "stream",
     "text": [
      "0.68425\n"
     ]
    }
   ],
   "source": [
    "#LLN\n",
    "import numpy as np\n",
    "from numpy.random import randn\n",
    "\n",
    "#specify sample size\n",
    "N = 100000\n",
    "\n",
    "#reset counter\n",
    "counter = 0\n",
    "\n",
    "#iterate over random values\n",
    "for i in randn(N):\n",
    "    \n",
    "    #check where iterated variable falls\n",
    "    if (i > -1 and i < 1):\n",
    "        \n",
    "        #increase counter if condition is met\n",
    "        counter = counter + 1\n",
    "        \n",
    "answer = counter / N\n",
    "print(answer)"
   ]
  },
  {
   "cell_type": "code",
   "execution_count": null,
   "metadata": {
    "collapsed": true
   },
   "outputs": [],
   "source": []
  },
  {
   "cell_type": "code",
   "execution_count": null,
   "metadata": {
    "collapsed": true
   },
   "outputs": [],
   "source": []
  },
  {
   "cell_type": "code",
   "execution_count": null,
   "metadata": {
    "collapsed": true
   },
   "outputs": [],
   "source": []
  }
 ],
 "metadata": {
  "kernelspec": {
   "display_name": "Python 3",
   "language": "python",
   "name": "python3"
  },
  "language_info": {
   "codemirror_mode": {
    "name": "ipython",
    "version": 3
   },
   "file_extension": ".py",
   "mimetype": "text/x-python",
   "name": "python",
   "nbconvert_exporter": "python",
   "pygments_lexer": "ipython3",
   "version": "3.6.0"
  }
 },
 "nbformat": 4,
 "nbformat_minor": 2
}
